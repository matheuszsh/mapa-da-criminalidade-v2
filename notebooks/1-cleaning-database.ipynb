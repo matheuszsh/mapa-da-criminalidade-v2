{
 "cells": [
  {
   "cell_type": "markdown",
   "id": "aa1dfce2",
   "metadata": {},
   "source": [
    "##### Dependências"
   ]
  },
  {
   "cell_type": "code",
   "execution_count": 1,
   "id": "6f9c3157",
   "metadata": {},
   "outputs": [],
   "source": [
    "import pandas as pd\n",
    "from datetime import datetime, time\n",
    "import sqlite3\n",
    "import unidecode"
   ]
  },
  {
   "cell_type": "markdown",
   "id": "d4aec8f8",
   "metadata": {},
   "source": [
    "#### Importando Base de dados"
   ]
  },
  {
   "cell_type": "code",
   "execution_count": 2,
   "id": "7f81627d",
   "metadata": {},
   "outputs": [],
   "source": [
    "dataset = pd.read_excel('../data/SP_capital_dadosCriminais_2025.xlsx')"
   ]
  },
  {
   "cell_type": "markdown",
   "id": "e7fb0fe2",
   "metadata": {},
   "source": [
    "##### Limpeza de dados e ordenação de colunas"
   ]
  },
  {
   "cell_type": "code",
   "execution_count": 3,
   "id": "b2d90ab7",
   "metadata": {},
   "outputs": [],
   "source": [
    "# Utilizando somente colunas relevantes para a análise\n",
    "format_dataset = dataset.iloc[:,[4,20,6,7,8,9,10,11,12]]\n",
    "\n",
    "# Removendo as linhas duplicadas\n",
    "format_dataset = format_dataset.drop_duplicates()"
   ]
  },
  {
   "cell_type": "markdown",
   "id": "58b473d0",
   "metadata": {},
   "source": [
    "##### Filtragem de rubricas\n",
    "\n",
    "**Apenas ocorrências criminais**"
   ]
  },
  {
   "cell_type": "code",
   "execution_count": 4,
   "id": "b165a1d7",
   "metadata": {},
   "outputs": [],
   "source": [
    "rubricas = [\n",
    "    \"Atropelamento\",\n",
    "    \"Colisão\",\n",
    "    \"Comunicação de óbito\",\n",
    "    \"Cumprimento de mandado de busca e apreensão\",\n",
    "    \"Encontro de Pessoa\",\n",
    "    \"Localização/Apreensão de objeto\",\n",
    "    \"Localização/Apreensão de veículo\",\n",
    "    \"Localização/Apreensão e Entrega de objeto\",\n",
    "    \"Localização/Apreensão e Entrega de veículo\",\n",
    "    \"Morte natural\",\n",
    "    \"Outros não criminal\",\n",
    "    \"Perda/Extravio\"\n",
    "]\n",
    "\n",
    "format_dataset['BAIRRO'] = (\n",
    "    format_dataset['BAIRRO']\n",
    "    .astype(str)                     \n",
    "    .str.upper()                     \n",
    "    .apply(unidecode.unidecode)      \n",
    "    .str.strip()                     \n",
    "    )\n",
    "\n",
    "format_dataset['BAIRRO'] = format_dataset['BAIRRO'].replace('nan', None)\n",
    "\n",
    "format_dataset = format_dataset.loc[~format_dataset.RUBRICA.isin(rubricas)]"
   ]
  },
  {
   "cell_type": "markdown",
   "id": "70b701b5",
   "metadata": {},
   "source": [
    "##### Tratando relação entre período e horário de ocorrência"
   ]
  },
  {
   "cell_type": "code",
   "execution_count": 5,
   "id": "e1cdae0d",
   "metadata": {},
   "outputs": [],
   "source": [
    "# Função para classificar periodos dos dia de acordo com seus respectivos horários.\n",
    "def classificar_horario(str_time):\n",
    "    try:\n",
    "        hora = datetime.strptime(str_time, \"%H:%M:%S\").time()\n",
    "\n",
    "        if time(6,0,0) <= hora < time(12,0,0):\n",
    "            return 'Pela manhã'\n",
    "        elif time(12,0,0) <= hora < time(18,0,0):\n",
    "            return 'A tarde'\n",
    "        elif time(18,0,0) <= hora < time(23,59,59):\n",
    "            return 'A noite'\n",
    "        else:\n",
    "            return 'De madrugada'\n",
    "    except:\n",
    "        return None\n",
    "    \n",
    "\n",
    "# aplica a classificação\n",
    "format_dataset.loc[format_dataset.DESC_PERIODO.isna(), 'DESC_PERIODO'] = format_dataset['HORA_OCORRENCIA_BO'].apply(classificar_horario)\n",
    "\n",
    "# remover coluna \"HORA_OCORRENCIA_BO\" pois ficaria redundante\n",
    "format_dataset = format_dataset.drop(columns=['HORA_OCORRENCIA_BO'])"
   ]
  },
  {
   "cell_type": "markdown",
   "id": "1dc9417a",
   "metadata": {},
   "source": [
    "##### Removendo dados fora do escopo\n",
    "\n",
    "Removendo dados que estão fora do intervalo do primeiro semestre (JAN/JUN) de 2025"
   ]
  },
  {
   "cell_type": "code",
   "execution_count": 9,
   "id": "5e7c2a97",
   "metadata": {},
   "outputs": [],
   "source": [
    "intervalo_inicio = '2025-01-01'\n",
    "intervalo_fim = '2025-06-30'\n",
    "\n",
    "format_dataset = format_dataset.loc[(format_dataset.DATA_OCORRENCIA_BO >= intervalo_inicio) & (format_dataset.DATA_OCORRENCIA_BO <= intervalo_fim)]"
   ]
  },
  {
   "cell_type": "markdown",
   "id": "49ece507",
   "metadata": {},
   "source": [
    "##### Tratamento de dataset finalizado"
   ]
  },
  {
   "cell_type": "code",
   "execution_count": 16,
   "id": "d63bfa10",
   "metadata": {},
   "outputs": [
    {
     "data": {
      "text/html": [
       "<div>\n",
       "<style scoped>\n",
       "    .dataframe tbody tr th:only-of-type {\n",
       "        vertical-align: middle;\n",
       "    }\n",
       "\n",
       "    .dataframe tbody tr th {\n",
       "        vertical-align: top;\n",
       "    }\n",
       "\n",
       "    .dataframe thead th {\n",
       "        text-align: right;\n",
       "    }\n",
       "</style>\n",
       "<table border=\"1\" class=\"dataframe\">\n",
       "  <thead>\n",
       "    <tr style=\"text-align: right;\">\n",
       "      <th></th>\n",
       "      <th>NUM_BO</th>\n",
       "      <th>RUBRICA</th>\n",
       "      <th>DATA_REGISTRO</th>\n",
       "      <th>DATA_OCORRENCIA_BO</th>\n",
       "      <th>DESC_PERIODO</th>\n",
       "      <th>DESCR_SUBTIPOLOCAL</th>\n",
       "      <th>BAIRRO</th>\n",
       "      <th>LOGRADOURO</th>\n",
       "    </tr>\n",
       "  </thead>\n",
       "  <tbody>\n",
       "    <tr>\n",
       "      <th>1</th>\n",
       "      <td>AM7136</td>\n",
       "      <td>Estupro de vulneravel (art.217-A)</td>\n",
       "      <td>2025-01-10</td>\n",
       "      <td>2025-01-10</td>\n",
       "      <td>De madrugada</td>\n",
       "      <td>Via Pública</td>\n",
       "      <td>SE</td>\n",
       "      <td>VEDAÇÃO DA DIVULGAÇÃO DOS DADOS RELATIVOS</td>\n",
       "    </tr>\n",
       "    <tr>\n",
       "      <th>2</th>\n",
       "      <td>AQ9561</td>\n",
       "      <td>Estupro de vulneravel (art.217-A)</td>\n",
       "      <td>2025-01-14</td>\n",
       "      <td>2025-01-14</td>\n",
       "      <td>Em hora incerta</td>\n",
       "      <td>Casa</td>\n",
       "      <td>SE</td>\n",
       "      <td>VEDAÇÃO DA DIVULGAÇÃO DOS DADOS RELATIVOS</td>\n",
       "    </tr>\n",
       "    <tr>\n",
       "      <th>3</th>\n",
       "      <td>BH3385</td>\n",
       "      <td>Estupro de vulneravel (art.217-A)</td>\n",
       "      <td>2025-01-27</td>\n",
       "      <td>2025-01-25</td>\n",
       "      <td>A noite</td>\n",
       "      <td>Motel</td>\n",
       "      <td>CANINDE</td>\n",
       "      <td>VEDAÇÃO DA DIVULGAÇÃO DOS DADOS RELATIVOS</td>\n",
       "    </tr>\n",
       "    <tr>\n",
       "      <th>9</th>\n",
       "      <td>AA2520</td>\n",
       "      <td>Furto (art. 155)</td>\n",
       "      <td>2025-01-01</td>\n",
       "      <td>2025-01-01</td>\n",
       "      <td>De madrugada</td>\n",
       "      <td>Via Pública</td>\n",
       "      <td>LIBERDADE</td>\n",
       "      <td>RUA JUNQUEIRA FREIRE</td>\n",
       "    </tr>\n",
       "    <tr>\n",
       "      <th>11</th>\n",
       "      <td>AA2974</td>\n",
       "      <td>Furto (art. 155)</td>\n",
       "      <td>2025-01-01</td>\n",
       "      <td>2025-01-01</td>\n",
       "      <td>A tarde</td>\n",
       "      <td>Via Pública</td>\n",
       "      <td>SE</td>\n",
       "      <td>PARQUE DOM PEDRO II</td>\n",
       "    </tr>\n",
       "    <tr>\n",
       "      <th>...</th>\n",
       "      <td>...</td>\n",
       "      <td>...</td>\n",
       "      <td>...</td>\n",
       "      <td>...</td>\n",
       "      <td>...</td>\n",
       "      <td>...</td>\n",
       "      <td>...</td>\n",
       "      <td>...</td>\n",
       "    </tr>\n",
       "    <tr>\n",
       "      <th>234220</th>\n",
       "      <td>JH9873</td>\n",
       "      <td>Roubo (art. 157)</td>\n",
       "      <td>2025-06-27</td>\n",
       "      <td>2025-06-27</td>\n",
       "      <td>A tarde</td>\n",
       "      <td>Via Pública</td>\n",
       "      <td>SAPOPEMBA</td>\n",
       "      <td>RUA SANTA MARIA DO CAMBUCA</td>\n",
       "    </tr>\n",
       "    <tr>\n",
       "      <th>234221</th>\n",
       "      <td>JI5078</td>\n",
       "      <td>Roubo (art. 157)</td>\n",
       "      <td>2025-06-28</td>\n",
       "      <td>2025-06-28</td>\n",
       "      <td>Pela manhã</td>\n",
       "      <td>Via Pública</td>\n",
       "      <td>SAPOPEMBA</td>\n",
       "      <td>AVENIDA CASA GRANDE</td>\n",
       "    </tr>\n",
       "    <tr>\n",
       "      <th>234222</th>\n",
       "      <td>ID8362</td>\n",
       "      <td>Homicídio (art. 121)</td>\n",
       "      <td>2025-06-05</td>\n",
       "      <td>2025-06-04</td>\n",
       "      <td>A noite</td>\n",
       "      <td>Via Pública</td>\n",
       "      <td>SAPOPEMBA</td>\n",
       "      <td>AVENIDA MANUEL PIMENTEL</td>\n",
       "    </tr>\n",
       "    <tr>\n",
       "      <th>234224</th>\n",
       "      <td>IW1577</td>\n",
       "      <td>tráfico drogas (Art.33, caput)</td>\n",
       "      <td>2025-06-18</td>\n",
       "      <td>2025-06-18</td>\n",
       "      <td>A tarde</td>\n",
       "      <td>Via Pública</td>\n",
       "      <td>VILA SAO NICOLAU</td>\n",
       "      <td>RUA ARROIO REAL</td>\n",
       "    </tr>\n",
       "    <tr>\n",
       "      <th>234226</th>\n",
       "      <td>JE9749</td>\n",
       "      <td>tráfico drogas (Art.33, caput)</td>\n",
       "      <td>2025-06-26</td>\n",
       "      <td>2025-06-26</td>\n",
       "      <td>Pela manhã</td>\n",
       "      <td>Bar</td>\n",
       "      <td>VILA ROSA MOLLA</td>\n",
       "      <td>VEDAÇÃO DA DIVULGAÇÃO DOS DADOS RELATIVOS</td>\n",
       "    </tr>\n",
       "  </tbody>\n",
       "</table>\n",
       "<p>226350 rows × 8 columns</p>\n",
       "</div>"
      ],
      "text/plain": [
       "        NUM_BO                            RUBRICA DATA_REGISTRO  \\\n",
       "1       AM7136  Estupro de vulneravel (art.217-A)    2025-01-10   \n",
       "2       AQ9561  Estupro de vulneravel (art.217-A)    2025-01-14   \n",
       "3       BH3385  Estupro de vulneravel (art.217-A)    2025-01-27   \n",
       "9       AA2520                   Furto (art. 155)    2025-01-01   \n",
       "11      AA2974                   Furto (art. 155)    2025-01-01   \n",
       "...        ...                                ...           ...   \n",
       "234220  JH9873                   Roubo (art. 157)    2025-06-27   \n",
       "234221  JI5078                   Roubo (art. 157)    2025-06-28   \n",
       "234222  ID8362               Homicídio (art. 121)    2025-06-05   \n",
       "234224  IW1577     tráfico drogas (Art.33, caput)    2025-06-18   \n",
       "234226  JE9749     tráfico drogas (Art.33, caput)    2025-06-26   \n",
       "\n",
       "       DATA_OCORRENCIA_BO     DESC_PERIODO DESCR_SUBTIPOLOCAL  \\\n",
       "1              2025-01-10     De madrugada        Via Pública   \n",
       "2              2025-01-14  Em hora incerta               Casa   \n",
       "3              2025-01-25          A noite              Motel   \n",
       "9              2025-01-01     De madrugada        Via Pública   \n",
       "11             2025-01-01          A tarde        Via Pública   \n",
       "...                   ...              ...                ...   \n",
       "234220         2025-06-27          A tarde        Via Pública   \n",
       "234221         2025-06-28       Pela manhã        Via Pública   \n",
       "234222         2025-06-04          A noite        Via Pública   \n",
       "234224         2025-06-18          A tarde        Via Pública   \n",
       "234226         2025-06-26       Pela manhã                Bar   \n",
       "\n",
       "                  BAIRRO                                 LOGRADOURO  \n",
       "1                     SE  VEDAÇÃO DA DIVULGAÇÃO DOS DADOS RELATIVOS  \n",
       "2                     SE  VEDAÇÃO DA DIVULGAÇÃO DOS DADOS RELATIVOS  \n",
       "3                CANINDE  VEDAÇÃO DA DIVULGAÇÃO DOS DADOS RELATIVOS  \n",
       "9              LIBERDADE                       RUA JUNQUEIRA FREIRE  \n",
       "11                    SE                        PARQUE DOM PEDRO II  \n",
       "...                  ...                                        ...  \n",
       "234220         SAPOPEMBA                 RUA SANTA MARIA DO CAMBUCA  \n",
       "234221         SAPOPEMBA                        AVENIDA CASA GRANDE  \n",
       "234222         SAPOPEMBA                    AVENIDA MANUEL PIMENTEL  \n",
       "234224  VILA SAO NICOLAU                            RUA ARROIO REAL  \n",
       "234226   VILA ROSA MOLLA  VEDAÇÃO DA DIVULGAÇÃO DOS DADOS RELATIVOS  \n",
       "\n",
       "[226350 rows x 8 columns]"
      ]
     },
     "execution_count": 16,
     "metadata": {},
     "output_type": "execute_result"
    }
   ],
   "source": [
    "format_dataset"
   ]
  },
  {
   "cell_type": "markdown",
   "id": "bcc25acb",
   "metadata": {},
   "source": [
    "Exportando para banco de dados"
   ]
  },
  {
   "cell_type": "code",
   "execution_count": 17,
   "id": "327c9373",
   "metadata": {},
   "outputs": [
    {
     "data": {
      "text/plain": [
       "226350"
      ]
     },
     "execution_count": 17,
     "metadata": {},
     "output_type": "execute_result"
    }
   ],
   "source": [
    "conn = sqlite3.connect('../data/crimes_sp.db')\n",
    "\n",
    "format_dataset.to_sql('ocorrencias',conn, if_exists='replace', index=False)"
   ]
  }
 ],
 "metadata": {
  "kernelspec": {
   "display_name": "Python 3",
   "language": "python",
   "name": "python3"
  },
  "language_info": {
   "codemirror_mode": {
    "name": "ipython",
    "version": 3
   },
   "file_extension": ".py",
   "mimetype": "text/x-python",
   "name": "python",
   "nbconvert_exporter": "python",
   "pygments_lexer": "ipython3",
   "version": "3.12.6"
  }
 },
 "nbformat": 4,
 "nbformat_minor": 5
}
